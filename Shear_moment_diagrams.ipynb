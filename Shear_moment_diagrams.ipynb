{
  "nbformat": 4,
  "nbformat_minor": 0,
  "metadata": {
    "colab": {
      "private_outputs": true,
      "provenance": []
    },
    "kernelspec": {
      "name": "python3",
      "display_name": "Python 3"
    },
    "language_info": {
      "name": "python"
    }
  },
  "cells": [
    {
      "cell_type": "markdown",
      "source": [
        "## Shear Moment Diagrams\n",
        "\n",
        "The relationship amongst load $w$, shear $V$, and moment $M$ in a beam can be described using integrals:\n",
        "\n",
        "$$\\Delta V = \\int w(x) dx $$\n",
        "\n",
        "$$\\Delta M = \\int V(x) dx $$\n",
        "\n",
        "This gives us an opportunity to do some simple discretizations of these equations and quickly create load, shear, and moment diagrams.<br><br>\n",
        "\n",
        "Let's start with a linear load functions, where the load is either constant across the beam, or increases at a constant rate.  We'll also limit ourselves to cantilevered beams, because we know that the shear and moment at the end of the beam is zero, and so can avoid the complications of including the supporting forces.  <br><br>\n",
        "\n",
        "<img src = https://github.com/AugustanaPEA/ENGR_311/raw/main/Images/Cantilever_beam_right.PNG width = 400>\n",
        "\n",
        "We'll define our parameters first: the length of the beam, the load at $x=0$ (the base of the beam), and the slope of the changing load.  Then we'll add a function to define the load at a given position $x$:\n",
        "\n"
      ],
      "metadata": {
        "id": "iUPe_K-abXv8"
      }
    },
    {
      "cell_type": "code",
      "source": [
        "import numpy as np\n",
        "import pandas as pd\n",
        "\n",
        "\n",
        "# Length of the beam in meters\n",
        "L = 1.0\n",
        "\n",
        "# Linear load (positive load is in downward direction)\n",
        "init = 0.0      # in N\n",
        "slope = 1.0      # in N/m\n",
        "\n",
        "# Linear load function\n",
        "def linear_load(slope,init,x):\n",
        "    return slope*x + init"
      ],
      "metadata": {
        "id": "koHwFbmddODN"
      },
      "execution_count": null,
      "outputs": []
    },
    {
      "cell_type": "markdown",
      "source": [
        "Now we begin to discretize our equations.  What does this mean?  We'll divide our beam into many small (but not infinitesimal) parts, and we'll add up the load and shear in these small parts in order to calculate the integrals above.  In doing so, we'll quantify the shear and moment at every point on the beam. <br><br>\n",
        "\n",
        "Notice that in the cell below our array of position values `x_array` starts at the end of the beam $L$ and goes to 0: this is because we know the values of the shear and moment at the end of the beam, and will integrate (i.e. add up) from there.  The next cell outputs `x_array` so you can see what that array looks like."
      ],
      "metadata": {
        "id": "Xu7c5Y7oici_"
      }
    },
    {
      "cell_type": "code",
      "execution_count": null,
      "metadata": {
        "id": "TKXJXUworWna"
      },
      "outputs": [],
      "source": [
        "# Decide on the number of steps and calculate the width of each step\n",
        "# More steps means more accuracy but more computational expense\n",
        "# 'delta' is the width of each step\n",
        "steps = 1001\n",
        "delta = L/(steps-1)\n",
        "\n",
        "# Create an array of our x values from L to 0\n",
        "# Then create a DataFrame (i.e. a table) to hold our values for w, V, and M\n",
        "x_array = np.linspace(L,0,steps)\n",
        "results = pd.DataFrame(index=x_array, columns=['Load','Shear','Moment'], dtype=object)\n",
        "print(x_array)"
      ]
    },
    {
      "cell_type": "markdown",
      "source": [
        "Now we need to start to populate the DataFrame with the appropriate values.  Start with the first position at $x = 0$:"
      ],
      "metadata": {
        "id": "z25dbfH7j0ms"
      }
    },
    {
      "cell_type": "code",
      "source": [
        "# Populate the load values for every position x\n",
        "# and set the shear and moment values at x = L\n",
        "results.Load = linear_load(slope,init,x_array)\n",
        "V = 0\n",
        "M = 0\n",
        "\n",
        "# Enter the first line into our DataFrame with the\n",
        "# initial values of w, V, and M\n",
        "# Notice that the first row of results.Load is at\n",
        "# the end of the beam (that is, at x = L)\n",
        "results.iloc[0] = [results.Load.iloc[0],V,M]\n",
        "print(results.Load)"
      ],
      "metadata": {
        "id": "RGukTLBMsuKr"
      },
      "execution_count": null,
      "outputs": []
    },
    {
      "cell_type": "markdown",
      "source": [
        "Now we'll loop through every $x$ value and add the change in shear and moment to our DataFrame. <br><br>\n",
        "\n",
        "Notice that in lines 3 and 5 we are finding the average value of the load and shear (respectively) on the two sides of the \"step\", and multiplying that average by the width of the step:\n",
        "\n",
        "$$V_{after~ this~ step} = V_{before~this~step} +\\frac{w_i + w_{i+1}}{2}\\Delta x$$ \n",
        "\n",
        "This is called a *discretization scheme*, and is an example of how we can calculate a continuous integral using a computer.  <br>\n",
        "\n",
        "<img src = https://github.com/AugustanaPEA/ENGR_311/raw/main/Images/Cantilever_beam_disc_right.PNG width = 300>\n",
        "\n",
        "<br>\n",
        "\n",
        "It's important that we calculate shear first so that we'll have a shear value at $x_{i+1}$ when we go to calculate the moment:"
      ],
      "metadata": {
        "id": "cBt6QGpRkvYi"
      }
    },
    {
      "cell_type": "code",
      "source": [
        "# Loop through each \"step\" and add to the value of V and M\n",
        "# This is how we are integrating using discrete values\n",
        "for i in range(len(x_array)-1):\n",
        "    # Add the new weight load on this step to the shear total\n",
        "    V = V + (results.Load.iloc[i]+results.Load.iloc[i+1])/2.0 * delta\n",
        "    results.iloc[i+1] = [results.Load.iloc[i+1],V,0]\n",
        "    # Add the new shear on this step to the moment total\n",
        "    M = M - (results.Shear.iloc[i]+results.Shear.iloc[i+1])/2.0 * delta\n",
        "    results.iloc[i+1] = [results.Load.iloc[i+1],V,M]"
      ],
      "metadata": {
        "id": "Hp5nnLQpjr4Y"
      },
      "execution_count": null,
      "outputs": []
    },
    {
      "cell_type": "markdown",
      "source": [
        "Now we can plot the three columns of our DataFrame:"
      ],
      "metadata": {
        "id": "S-lTcOIuqaAa"
      }
    },
    {
      "cell_type": "code",
      "source": [
        "results.plot(subplots=True,layout=[1,3],figsize=[15,3]);"
      ],
      "metadata": {
        "id": "Ru4ZxG3Ikz5i"
      },
      "execution_count": null,
      "outputs": []
    },
    {
      "cell_type": "markdown",
      "source": [
        "Test the code by putting in the conditions of the cantilevered beam in lecture \"1.2 Load Distribution Diagrams Example\" and checking that the results match the answer there."
      ],
      "metadata": {
        "id": "AqWXZG70sYxf"
      }
    },
    {
      "cell_type": "markdown",
      "source": [
        "### Exercise 1\n",
        "\n",
        "It's a little more complicated to deal with point loads.  But if we check at every step in the loop to find if there is a point load, we can do it. <br><br>\n",
        "\n",
        "We'll start by adding to our parameters: we'll store any point results in a Series called `points`.  Our point loads here are a 10.0 N load at both the midpoint ($x=0.5$ m) and the end ($x=0.99$ m) of the beam:"
      ],
      "metadata": {
        "id": "KV17zmH2rRDk"
      }
    },
    {
      "cell_type": "code",
      "source": [
        "L = 1.0          # in m\n",
        "init = 10.0      # in N\n",
        "slope = 5.0      # in N/m\n",
        "points = pd.Series(index=[0.5,0.99], data=[10.0,10.0])\n",
        "steps = 101\n",
        "delta = L/(steps-1)\n",
        "x_array = np.linspace(L,0,steps)"
      ],
      "metadata": {
        "id": "ywQgY2AR45Lx"
      },
      "execution_count": null,
      "outputs": []
    },
    {
      "cell_type": "markdown",
      "source": [
        "Now we need a way to add the effect of these point loads.  The function below takes the load data created by `linear_load()`, and adds to it any point loads.  Notice that the point loads get divided by `delta` in the function: this is because they will later be multiplied by `delta` when we calculate shear:"
      ],
      "metadata": {
        "id": "iTivBjEL5AEm"
      }
    },
    {
      "cell_type": "code",
      "source": [
        "def point_loads(x_array,points,delta,results):\n",
        "    # Loop through every \"step\" in the x-direction\n",
        "    for i in range(len(x_array)-1):\n",
        "        # Check to see if there is a point load in this step\n",
        "        for p in points.index:\n",
        "            if p <= x_array[i] and p > x_array[i+1]:\n",
        "                # Add the point load to the load function \n",
        "                # 'Load_image' is added here as fourth element in the DataFrame\n",
        "                # to make our plots more readable later on...\n",
        "                results.iloc[i] = [results.Load.iloc[i] + points[p]/delta,0,0, \n",
        "                                 results.Load_image.iloc[i] + points[p]]\n",
        "    return results"
      ],
      "metadata": {
        "id": "mtpXkYr7sgX8"
      },
      "execution_count": null,
      "outputs": []
    },
    {
      "cell_type": "markdown",
      "source": [
        "Now we can create our load function using both `linear_load()` and `point_loads()`.  Once we've done that, we can calculate shear and moment just as we did above (`Load_image` is added just to make our plots more readable when we're done):"
      ],
      "metadata": {
        "id": "Hz-7CvSa63rY"
      }
    },
    {
      "cell_type": "code",
      "source": [
        "# Set up the DataFrame with initial values\n",
        "results = pd.DataFrame(index=x_array, columns=['Load','Shear','Moment','Load_image'], dtype=object)\n",
        "results.Load = linear_load(slope,init,x_array)\n",
        "results.Load_image = linear_load(slope,init,x_array)\n",
        "results.Shear = 0.0\n",
        "results.Moment = 0.0\n",
        "results = point_loads(x_array,points, delta,results)\n",
        "V = 0\n",
        "M = 0\n",
        "results.iloc[0] = [results.Load.iloc[0],V,M,results.Load_image.iloc[0]]\n",
        "\n",
        "# Loop through the steps and integrate the load and shear\n",
        "for i in range(len(x_array)-1):\n",
        "    V = V + (results.Load.iloc[i]+results.Load.iloc[i+1])/2.0 * delta\n",
        "    results.iloc[i+1] = [results.Load.iloc[i+1],V,0,results.Load_image.iloc[i+1]]\n",
        "    M = M - (results.Shear.iloc[i]+results.Shear.iloc[i+1])/2.0 * delta\n",
        "    results.iloc[i+1] = [results.Load.iloc[i+1],V,M,results.Load_image.iloc[i+1]]"
      ],
      "metadata": {
        "id": "SG4_l2wwtafe"
      },
      "execution_count": null,
      "outputs": []
    },
    {
      "cell_type": "markdown",
      "source": [
        "And now we'll plot our results.  We're using `pyplot` here rather than our usual `plot` because it is more versatile: it allows us to plot just 3 of the 4 parts of the DataFrame on the same plot:"
      ],
      "metadata": {
        "id": "FqepIb1F7V8c"
      }
    },
    {
      "cell_type": "code",
      "source": [
        "# Plot the load, shear, and moment diagrams\n",
        "import matplotlib.pyplot as plt\n",
        "fig, axs = plt.subplots(1, 3, figsize=(15, 3))\n",
        "axs[0].plot(results.Load_image)\n",
        "axs[1].plot(results.Shear, color='red')\n",
        "axs[2].plot(results.Moment.index, results.Moment, color='green')\n",
        "fig.suptitle('Load, Shear, and Moment Diagrams');\n",
        "axs[0].set_xlabel('Length (m)')\n",
        "axs[1].set_xlabel('Length (m)')\n",
        "axs[2].set_xlabel('Length (m)')\n",
        "axs[0].set_xlabel('Load (N/m or N)')\n",
        "axs[1].set_xlabel('Shear')\n",
        "axs[2].set_xlabel('Moment')"
      ],
      "metadata": {
        "id": "WJSlPHVf610N"
      },
      "execution_count": null,
      "outputs": []
    },
    {
      "cell_type": "markdown",
      "source": [
        "✅ ✅  Explain in your own words why the shear diagram jumps suddenly at $x=0.5$ m.  Why does the point load increase the shear so drastically?"
      ],
      "metadata": {
        "id": "XktzmwnE77vO"
      }
    },
    {
      "cell_type": "markdown",
      "source": [
        "✅ ✅ Answer here."
      ],
      "metadata": {
        "id": "o9e9ZPur8b2e"
      }
    },
    {
      "cell_type": "markdown",
      "source": [
        "### Exercise 2\n",
        "\n",
        "Add the necessary parameters to the code in exercise 2 to confirm your answer to HW question 1.8 (and leave these plots when you turn the HW in).  \n",
        "\n",
        "This code is set up to have the support on the right side.  So solve the problem with that in mind.  Notice that the sign of the shear plot will be different than your HW because of the sign conventions (problem 1.8 has the support on the right side of the beam, rather than the left).<br><br>\n",
        "\n",
        "<img src = https://github.com/AugustanaPEA/ENGR_311/raw/main/Images/cantilever_HW_problem.PNG width = 300>"
      ],
      "metadata": {
        "id": "KXpviySW88mX"
      }
    },
    {
      "cell_type": "code",
      "source": [],
      "metadata": {
        "id": "w3DAEqf2y7wA"
      },
      "execution_count": null,
      "outputs": []
    }
  ]
}